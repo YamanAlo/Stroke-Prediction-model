{
 "cells": [
  {
   "cell_type": "code",
   "execution_count": 16,
   "metadata": {},
   "outputs": [],
   "source": [
    "import gradio as gr\n",
    "import pandas as pd\n",
    "import xgboost as xgb\n",
    "import numpy as np\n",
    "import pickle"
   ]
  },
  {
   "cell_type": "code",
   "execution_count": 17,
   "metadata": {},
   "outputs": [],
   "source": [
    "def decode_file(file_path):\n",
    "    with open(file_path, 'rb') as file:\n",
    "        obj = pickle.load(file)\n",
    "    return obj\n",
    "\n",
    "model = decode_file('../model/model.pkl')"
   ]
  },
  {
   "cell_type": "code",
   "execution_count": 18,
   "metadata": {},
   "outputs": [],
   "source": [
    "def predict(gender, age, hypertension, ever_married, work_type, heart_disease, avg_glucose_level, bmi, smoking_status, Residence_type):\n",
    "    # Mapping for categorical variables\n",
    "    gender_mapping = {'Male': 1, 'Female': 0}\n",
    "    hypertension_mapping = {'Yes': 1, 'No': 0}\n",
    "    ever_married_mapping = {'Yes': 1, 'No': 0}\n",
    "    work_type_mapping = {'Private': 2, 'Self-employed': 4, 'Govt_job': 3, 'children': 1, 'Never_worked': 0}\n",
    "    heart_disease_mapping = {'Yes': 1, 'No': 0}\n",
    "    smoking_status_mapping = {'formerly smoked': 3, 'smokes': 1, 'never smoked': 2, 'Unknown': 0}\n",
    "    Residence_type_mapping = {'Urban': 1, 'Rural': 0}\n",
    "\n",
    "    # Map categorical variables to their corresponding numerical values\n",
    "    gender = gender_mapping[gender]\n",
    "    hypertension = hypertension_mapping[hypertension]\n",
    "    ever_married = ever_married_mapping[ever_married]\n",
    "    work_type = work_type_mapping[work_type]\n",
    "    heart_disease = heart_disease_mapping[heart_disease]\n",
    "    smoking_status = smoking_status_mapping[smoking_status]\n",
    "    Residence_type = Residence_type_mapping[Residence_type]\n",
    "\n",
    "    inputs = [gender, age, hypertension, ever_married, work_type, heart_disease, avg_glucose_level, bmi, smoking_status, Residence_type]\n",
    "    input_labels = ['gender', 'age', 'hypertension', 'ever_married', 'work_type', 'heart_disease', 'avg_glucose_level', 'bmi', 'smoking_status', 'Residence_type']\n",
    "\n",
    "    # Convert the input into a pandas DataFrame\n",
    "    input_df = pd.DataFrame([inputs], columns=input_labels)\n",
    "\n",
    "    # Predict the stroke probability\n",
    "    prediction = model.predict_proba(input_df)[0][1]\n",
    "\n",
    "    # Return the prediction\n",
    "    result = \"The probability of stroke is {:.2f}%\".format(prediction * 100)  # to give a percentage\n",
    "    return result\n"
   ]
  },
  {
   "cell_type": "code",
   "execution_count": 19,
   "metadata": {},
   "outputs": [
    {
     "data": {
      "text/plain": [
       "'The probability of stroke is 3.51%'"
      ]
     },
     "execution_count": 19,
     "metadata": {},
     "output_type": "execute_result"
    }
   ],
   "source": [
    "predict('Female',57.0,'No',\"Yes\",'Private',\"No\",82.54,33.4,'Unknown','Rural')\n"
   ]
  },
  {
   "cell_type": "code",
   "execution_count": 20,
   "metadata": {},
   "outputs": [
    {
     "name": "stdout",
     "output_type": "stream",
     "text": [
      "Running on local URL:  http://127.0.0.1:7863\n",
      "Running on public URL: https://a187acda7890636336.gradio.live\n",
      "\n",
      "This share link expires in 72 hours. For free permanent hosting and GPU upgrades (NEW!), check out Spaces: https://huggingface.co/spaces\n"
     ]
    },
    {
     "data": {
      "text/html": [
       "<div><iframe src=\"https://a187acda7890636336.gradio.live\" width=\"100%\" height=\"500\" allow=\"autoplay; camera; microphone; clipboard-read; clipboard-write;\" frameborder=\"0\" allowfullscreen></iframe></div>"
      ],
      "text/plain": [
       "<IPython.core.display.HTML object>"
      ]
     },
     "metadata": {},
     "output_type": "display_data"
    },
    {
     "data": {
      "text/plain": []
     },
     "execution_count": 20,
     "metadata": {},
     "output_type": "execute_result"
    }
   ],
   "source": [
    "input_labels = [\n",
    "    'gender', 'age', 'hypertension', 'ever_married', 'work_type', \n",
    "    'heart_disease', 'avg_glucose_level', 'bmi', 'smoking_status', 'Residence_type'\n",
    "]\n",
    "# Create the Gradio interface\n",
    "iface = gr.Interface(\n",
    "    fn=predict,\n",
    "    inputs=[\n",
    "        gr.components.Radio(choices=['Female', 'Male'], label=\"Gender\"),\n",
    "        gr.components.Slider(label=\"Age\"),\n",
    "        gr.components.Radio(choices=['Yes', 'No'], label=\"Hypertension\"),\n",
    "        gr.components.Radio(choices=['Yes', 'No'], label=\"Ever Married\"),\n",
    "        gr.components.Radio(choices=['Private', 'Self-employed', 'Govt_job', 'children', 'Never_worked'], label=\"Work Type\"),\n",
    "        gr.components.Radio(choices=['Yes', 'No'], label=\"Heart Disease\"),\n",
    "        gr.components.Number(label=\"Average Glucose Level\"),\n",
    "        gr.components.Slider(label=\"BMI\"),\n",
    "        gr.components.Radio(choices=['formerly smoked', 'never smoked', 'smokes', 'Unknown'], label=\"Smoking Status\"),\n",
    "        gr.components.Radio(choices=['Urban', 'Rural'], label=\"Residence Type\")\n",
    "    ],\n",
    "    outputs='text',\n",
    "    title='Stroke Probability Predictor',\n",
    "    description='Predicts the probability of having a stroke based on input features.'\n",
    ")\n",
    "\n",
    "\n",
    "iface.launch(share = True)\n"
   ]
  }
 ],
 "metadata": {
  "kernelspec": {
   "display_name": "Python 3",
   "language": "python",
   "name": "python3"
  },
  "language_info": {
   "codemirror_mode": {
    "name": "ipython",
    "version": 3
   },
   "file_extension": ".py",
   "mimetype": "text/x-python",
   "name": "python",
   "nbconvert_exporter": "python",
   "pygments_lexer": "ipython3",
   "version": "3.11.3"
  },
  "orig_nbformat": 4
 },
 "nbformat": 4,
 "nbformat_minor": 2
}
