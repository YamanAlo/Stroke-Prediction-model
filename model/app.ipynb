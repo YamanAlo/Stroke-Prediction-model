{
 "cells": [
  {
   "cell_type": "code",
   "execution_count": 164,
   "metadata": {},
   "outputs": [],
   "source": [
    "import gradio as gr\n",
    "import dill\n",
    "import pandas as pd\n",
    "import xgboost as xgb\n",
    "import numpy as np\n",
    "import pickle"
   ]
  },
  {
   "cell_type": "code",
   "execution_count": 165,
   "metadata": {},
   "outputs": [],
   "source": [
    "def decode_file(file_path):\n",
    "    with open(file_path, 'rb') as file:\n",
    "        obj = pickle.load(file)\n",
    "    return obj\n",
    "\n",
    "model = decode_file('model.pkl')"
   ]
  },
  {
   "cell_type": "code",
   "execution_count": 166,
   "metadata": {},
   "outputs": [],
   "source": [
    "# def predict(gender, age, hypertension, ever_married, work_type, heart_disease, avg_glucose_level, bmi, smoking_status, Residence_type):\n",
    "#     gender_mapping = {'Female': 0, 'Male': 1}\n",
    "#     ever_married_map = {'No': 0, 'Yes': 1}\n",
    "#     work_type_mapped = {'Private': 2, 'Self-employed': 4, 'Govt_job': 3, 'children': 1, 'Never_worked': 0}\n",
    "#     smoking_status_mapped = {'formerly smoked': 3, 'never smoked': 1, 'smokes': 2, 'Unknown': 0}\n",
    "#     Residence_type_mapped = {'Urban': 1, 'Rural': 0}\n",
    "\n",
    "#     encoded_gender = gender_mapping[gender]\n",
    "#     encoded_ever_married = ever_married_map[ever_married]\n",
    "#     encoded_work_type = work_type_mapped[work_type]\n",
    "#     encoded_smoking_status = smoking_status_mapped[smoking_status]\n",
    "#     encoded_Residence_type = Residence_type_mapped[Residence_type]\n",
    "\n",
    "#     inputs = [gender, age, hypertension, ever_married, work_type, heart_disease, avg_glucose_level, bmi, smoking_status, Residence_type]\n",
    "#     input_labels = ['gender', 'age', 'hypertension', 'ever_married', 'work_type', 'heart_disease', 'avg_glucose_level', 'bmi', 'smoking_status', 'Residence_type']\n",
    "\n",
    "#     # Convert the input into a pandas DataFrame\n",
    "#     input_df = pd.DataFrame([inputs], columns=input_labels)\n",
    "\n",
    "#     # Predict the stroke probability\n",
    "#     prediction = model.predict_proba(input_df)[0][1]\n",
    "\n",
    "#     # Return the prediction\n",
    "#     result = \"The probability of stroke is {:.2f}%\".format(prediction * 100) #to give a percentage \n",
    "#     return result\n"
   ]
  },
  {
   "cell_type": "code",
   "execution_count": 167,
   "metadata": {},
   "outputs": [],
   "source": [
    "def predict(gender, age, hypertension, ever_married, work_type, heart_disease, avg_glucose_level, bmi, smoking_status, Residence_type):\n",
    "    \n",
    "    inputs = [gender, age, hypertension,ever_married, work_type, heart_disease, avg_glucose_level, bmi, smoking_status, Residence_type]\n",
    "    input_labels = ['gender', 'age', 'hypertension', 'ever_married', 'work_type', 'heart_disease', 'avg_glucose_level', 'bmi', 'smoking_status', 'Residence_type']\n",
    "\n",
    "    # Convert the input into a pandas DataFrame\n",
    "    input_df = pd.DataFrame([inputs], columns=input_labels)\n",
    "\n",
    "    # Predict the stroke probability\n",
    "    prediction = model.predict_proba(input_df)[0][1]\n",
    "\n",
    "    # Return the prediction\n",
    "    result = \"The probability of stroke is {:.2f}%\".format(prediction * 100) #to give a percentage \n",
    "    return result\n"
   ]
  },
  {
   "cell_type": "code",
   "execution_count": 168,
   "metadata": {},
   "outputs": [
    {
     "data": {
      "text/plain": [
       "'The probability of stroke is 8.84%'"
      ]
     },
     "execution_count": 168,
     "metadata": {},
     "output_type": "execute_result"
    }
   ],
   "source": [
    "predict(1, 57.0, 0, 0, 1, 1,82.54,33.4,1,1 )"
   ]
  },
  {
   "cell_type": "code",
   "execution_count": 169,
   "metadata": {},
   "outputs": [
    {
     "name": "stdout",
     "output_type": "stream",
     "text": [
      "Running on local URL:  http://127.0.0.1:7867\n",
      "\n",
      "To create a public link, set `share=True` in `launch()`.\n"
     ]
    },
    {
     "data": {
      "text/html": [
       "<div><iframe src=\"http://127.0.0.1:7867/\" width=\"100%\" height=\"500\" allow=\"autoplay; camera; microphone; clipboard-read; clipboard-write;\" frameborder=\"0\" allowfullscreen></iframe></div>"
      ],
      "text/plain": [
       "<IPython.core.display.HTML object>"
      ]
     },
     "metadata": {},
     "output_type": "display_data"
    },
    {
     "data": {
      "text/plain": []
     },
     "execution_count": 169,
     "metadata": {},
     "output_type": "execute_result"
    },
    {
     "name": "stderr",
     "output_type": "stream",
     "text": [
      "Traceback (most recent call last):\n",
      "  File \"c:\\Users\\yaman\\AppData\\Local\\Programs\\Python\\Python311\\Lib\\site-packages\\gradio\\routes.py\", line 422, in run_predict\n",
      "    output = await app.get_blocks().process_api(\n",
      "             ^^^^^^^^^^^^^^^^^^^^^^^^^^^^^^^^^^^\n",
      "  File \"c:\\Users\\yaman\\AppData\\Local\\Programs\\Python\\Python311\\Lib\\site-packages\\gradio\\blocks.py\", line 1323, in process_api\n",
      "    result = await self.call_function(\n",
      "             ^^^^^^^^^^^^^^^^^^^^^^^^^\n",
      "  File \"c:\\Users\\yaman\\AppData\\Local\\Programs\\Python\\Python311\\Lib\\site-packages\\gradio\\blocks.py\", line 1051, in call_function\n",
      "    prediction = await anyio.to_thread.run_sync(\n",
      "                 ^^^^^^^^^^^^^^^^^^^^^^^^^^^^^^^\n",
      "  File \"c:\\Users\\yaman\\AppData\\Local\\Programs\\Python\\Python311\\Lib\\site-packages\\anyio\\to_thread.py\", line 31, in run_sync\n",
      "    return await get_asynclib().run_sync_in_worker_thread(\n",
      "           ^^^^^^^^^^^^^^^^^^^^^^^^^^^^^^^^^^^^^^^^^^^^^^^\n",
      "  File \"c:\\Users\\yaman\\AppData\\Local\\Programs\\Python\\Python311\\Lib\\site-packages\\anyio\\_backends\\_asyncio.py\", line 937, in run_sync_in_worker_thread\n",
      "    return await future\n",
      "           ^^^^^^^^^^^^\n",
      "  File \"c:\\Users\\yaman\\AppData\\Local\\Programs\\Python\\Python311\\Lib\\site-packages\\anyio\\_backends\\_asyncio.py\", line 867, in run\n",
      "    result = context.run(func, *args)\n",
      "             ^^^^^^^^^^^^^^^^^^^^^^^^\n",
      "  File \"C:\\Users\\yaman\\AppData\\Local\\Temp\\ipykernel_3464\\908801002.py\", line 10, in predict\n",
      "    prediction = model.predict_proba(input_df)[0][1]\n",
      "                 ^^^^^^^^^^^^^^^^^^^^^^^^^^^^^\n",
      "  File \"c:\\Users\\yaman\\AppData\\Local\\Programs\\Python\\Python311\\Lib\\site-packages\\xgboost\\sklearn.py\", line 1606, in predict_proba\n",
      "    class_probs = super().predict(\n",
      "                  ^^^^^^^^^^^^^^^^\n",
      "  File \"c:\\Users\\yaman\\AppData\\Local\\Programs\\Python\\Python311\\Lib\\site-packages\\xgboost\\sklearn.py\", line 1114, in predict\n",
      "    predts = self.get_booster().inplace_predict(\n",
      "             ^^^^^^^^^^^^^^^^^^^^^^^^^^^^^^^^^^^\n",
      "  File \"c:\\Users\\yaman\\AppData\\Local\\Programs\\Python\\Python311\\Lib\\site-packages\\xgboost\\core.py\", line 2284, in inplace_predict\n",
      "    data, fns, _ = _transform_pandas_df(data, enable_categorical)\n",
      "                   ^^^^^^^^^^^^^^^^^^^^^^^^^^^^^^^^^^^^^^^^^^^^^^\n",
      "  File \"c:\\Users\\yaman\\AppData\\Local\\Programs\\Python\\Python311\\Lib\\site-packages\\xgboost\\data.py\", line 391, in _transform_pandas_df\n",
      "    _invalid_dataframe_dtype(data)\n",
      "  File \"c:\\Users\\yaman\\AppData\\Local\\Programs\\Python\\Python311\\Lib\\site-packages\\xgboost\\data.py\", line 283, in _invalid_dataframe_dtype\n",
      "    raise ValueError(msg)\n",
      "ValueError: DataFrame.dtypes for data must be int, float, bool or category. When categorical type is supplied, The experimental DMatrix parameter`enable_categorical` must be set to `True`.  Invalid columns:gender: object, hypertension: object, ever_married: object, work_type: object, heart_disease: object, smoking_status: object, Residence_type: object\n"
     ]
    }
   ],
   "source": [
    "\n",
    "input_labels = [\n",
    "    'gender', 'age', 'hypertension', 'ever_married', 'work_type', \n",
    "    'heart_disease', 'avg_glucose_level', 'bmi', 'smoking_status', 'Residence_type'\n",
    "    ]\n",
    "\n",
    "# gender_mapping= {'Female':0,'Male':1}\n",
    "# ever_married_map = {'No':0,'Yes':1}\n",
    "# work_type_mapped = {'Private':2,'Self-employed':4,'Govt_job':3,'children':1,'Never_worked':0}\n",
    "# smoking_status_mapped = {'formerly smoked':3 ,'never smoked':1 , 'smokes':2 , 'Unknown':0}\n",
    "# Residence_type_mapped = {'Urban':1 , 'Rural':0}\n",
    "# encoded_gender = gender_mapping[gender]\n",
    "# encoded_ever_married = ever_married_map[ever_married]\n",
    "# encoded_work_type = work_type_mapped[work_type]\n",
    "# encoded_smoking_status = smoking_status_mapped[smoking_status]\n",
    "# encoded_Residence_type = Residence_type_mapped[Residence_type]\n",
    "\n",
    "inputs = [\n",
    "    gr.components.Dropdown(['Male', 'Female'], label=\"gender\"),\n",
    "    gr.components.Number(label=\"age\"),\n",
    "    gr.components.Dropdown(['Yes', 'No'], label=\"Hypertension\"),\n",
    "    gr.components.Dropdown(['Yes', 'No'], label=\"Ever Married\"),\n",
    "    gr.components.Dropdown(['Private', 'Self-employed', 'Govt_job', 'Children', 'Never_worked'], label=\"Work Type\"),\n",
    "    gr.components.Dropdown(['Yes', 'No'], label=\"Heart Disease\"),\n",
    "    gr.components.Number(label=\"average glucose level\"),\n",
    "    gr.components.Number(label=\"bmi\"),\n",
    "    gr.components.Dropdown(['formerly smoked','Smokes', 'Never smoked', 'Unknown'], label=\"Smoking Status\"),\n",
    "    gr.components.Dropdown(['Urban', 'Rural'], label=\"Residence Type\"),\n",
    "]\n",
    "\n",
    "iface = gr.Interface(\n",
    "    fn=predict,\n",
    "    inputs=inputs,\n",
    "    outputs=\"text\",\n",
    "    title=\"Prediction Model\",\n",
    "    description=\"Enter the required information to make a prediction.\",\n",
    "    theme=\"default\"\n",
    ")\n",
    "\n",
    "iface.launch()\n"
   ]
  }
 ],
 "metadata": {
  "kernelspec": {
   "display_name": "Python 3",
   "language": "python",
   "name": "python3"
  },
  "language_info": {
   "codemirror_mode": {
    "name": "ipython",
    "version": 3
   },
   "file_extension": ".py",
   "mimetype": "text/x-python",
   "name": "python",
   "nbconvert_exporter": "python",
   "pygments_lexer": "ipython3",
   "version": "3.11.3"
  },
  "orig_nbformat": 4
 },
 "nbformat": 4,
 "nbformat_minor": 2
}
