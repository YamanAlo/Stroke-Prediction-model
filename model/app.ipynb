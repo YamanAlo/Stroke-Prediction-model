{
 "cells": [
  {
   "cell_type": "code",
   "execution_count": 4,
   "metadata": {},
   "outputs": [
    {
     "name": "stderr",
     "output_type": "stream",
     "text": [
      "c:\\Users\\yaman\\AppData\\Local\\Programs\\Python\\Python311\\Lib\\site-packages\\tqdm\\auto.py:21: TqdmWarning: IProgress not found. Please update jupyter and ipywidgets. See https://ipywidgets.readthedocs.io/en/stable/user_install.html\n",
      "  from .autonotebook import tqdm as notebook_tqdm\n"
     ]
    }
   ],
   "source": [
    "import gradio as gr\n",
    "import dill\n",
    "import pandas as pd\n",
    "import xgboost as xgb\n",
    "import numpy as np\n",
    "import pickle"
   ]
  },
  {
   "cell_type": "code",
   "execution_count": 5,
   "metadata": {},
   "outputs": [],
   "source": [
    "def decode_file(file_path):\n",
    "    with open(file_path, 'rb') as file:\n",
    "        obj = pickle.load(file)\n",
    "    return obj\n",
    "\n",
    "model = decode_file('model.pkl')"
   ]
  },
  {
   "cell_type": "code",
   "execution_count": 6,
   "metadata": {},
   "outputs": [],
   "source": [
    "def predict(gender, age, hypertension, ever_married, work_type, heart_disease, avg_glucose_level, bmi, smoking_status, Residence_type):\n",
    "    # Mapping for categorical variables\n",
    "    gender_mapping = {'Male': 1, 'Female': 0}\n",
    "    hypertension_mapping = {'Yes': 1, 'No': 0}\n",
    "    ever_married_mapping = {'Yes': 1, 'No': 0}\n",
    "    work_type_mapping = {'Private': 2, 'Self-employed': 4, 'Govt_job': 3, 'Children': 1, 'Never_worked': 0}\n",
    "    heart_disease_mapping = {'Yes': 1, 'No': 0}\n",
    "    smoking_status_mapping = {'formerly smoked': 3, 'Smokes': 1, 'Never smoked': 2, 'Unknown': 0}\n",
    "    Residence_type_mapping = {'Urban': 1, 'Rural': 0}\n",
    "\n",
    "    # Map categorical variables to their corresponding numerical values\n",
    "    gender = gender_mapping[gender]\n",
    "    hypertension = hypertension_mapping[hypertension]\n",
    "    ever_married = ever_married_mapping[ever_married]\n",
    "    work_type = work_type_mapping[work_type]\n",
    "    heart_disease = heart_disease_mapping[heart_disease]\n",
    "    smoking_status = smoking_status_mapping[smoking_status]\n",
    "    Residence_type = Residence_type_mapping[Residence_type]\n",
    "\n",
    "    inputs = [gender, age, hypertension, ever_married, work_type, heart_disease, avg_glucose_level, bmi, smoking_status, Residence_type]\n",
    "    input_labels = ['gender', 'age', 'hypertension', 'ever_married', 'work_type', 'heart_disease', 'avg_glucose_level', 'bmi', 'smoking_status', 'Residence_type']\n",
    "\n",
    "    # Convert the input into a pandas DataFrame\n",
    "    input_df = pd.DataFrame([inputs], columns=input_labels)\n",
    "\n",
    "    # Predict the stroke probability\n",
    "    prediction = model.predict_proba(input_df)[0][1]\n",
    "\n",
    "    # Return the prediction\n",
    "    result = \"The probability of stroke is {:.2f}%\".format(prediction * 100)  # to give a percentage\n",
    "    return result\n"
   ]
  },
  {
   "cell_type": "code",
   "execution_count": 7,
   "metadata": {},
   "outputs": [
    {
     "data": {
      "text/plain": [
       "'The probability of stroke is 3.97%'"
      ]
     },
     "execution_count": 7,
     "metadata": {},
     "output_type": "execute_result"
    }
   ],
   "source": [
    "predict('Female',57.0,'No',\"Yes\",'Private',\"No\",82.54,33.4,'Unknown','Rural')\n"
   ]
  },
  {
   "cell_type": "code",
   "execution_count": 8,
   "metadata": {},
   "outputs": [
    {
     "name": "stdout",
     "output_type": "stream",
     "text": [
      "Running on local URL:  http://127.0.0.1:7860\n",
      "\n",
      "To create a public link, set `share=True` in `launch()`.\n"
     ]
    },
    {
     "data": {
      "text/html": [
       "<div><iframe src=\"http://127.0.0.1:7860/\" width=\"100%\" height=\"500\" allow=\"autoplay; camera; microphone; clipboard-read; clipboard-write;\" frameborder=\"0\" allowfullscreen></iframe></div>"
      ],
      "text/plain": [
       "<IPython.core.display.HTML object>"
      ]
     },
     "metadata": {},
     "output_type": "display_data"
    },
    {
     "data": {
      "text/plain": []
     },
     "execution_count": 8,
     "metadata": {},
     "output_type": "execute_result"
    }
   ],
   "source": [
    "\n",
    "input_labels = [\n",
    "    'gender', 'age', 'hypertension', 'ever_married', 'work_type', \n",
    "    'heart_disease', 'avg_glucose_level', 'bmi', 'smoking_status', 'Residence_type'\n",
    "    ]\n",
    "\n",
    "inputs = [\n",
    "    gr.components.Dropdown(['Male', 'Female'], label=\"gender\"),\n",
    "    gr.components.Number(label=\"age\"),\n",
    "    gr.components.Dropdown(['Yes', 'No'], label=\"Hypertension\"),\n",
    "    gr.components.Dropdown(['Yes', 'No'], label=\"Ever Married\"),\n",
    "    gr.components.Dropdown(['Private', 'Self-employed', 'Govt_job', 'Children', 'Never_worked'], label=\"Work Type\"),\n",
    "    gr.components.Dropdown(['Yes', 'No'], label=\"Heart Disease\"),\n",
    "    gr.components.Number(label=\"average glucose level\"),\n",
    "    gr.components.Number(label=\"bmi\"),\n",
    "    gr.components.Dropdown(['formerly smoked','Smokes', 'Never smoked', 'Unknown'], label=\"Smoking Status\"),\n",
    "    gr.components.Dropdown(['Urban', 'Rural'], label=\"Residence Type\"),\n",
    "]\n",
    "\n",
    "iface = gr.Interface(\n",
    "    fn=predict,\n",
    "    inputs=inputs,\n",
    "    outputs=\"text\",\n",
    "    title=\"Prediction Model\",\n",
    "    description=\"Enter the required information to make a prediction.\",\n",
    "    theme=\"default\"\n",
    ")\n",
    "\n",
    "iface.launch()\n"
   ]
  }
 ],
 "metadata": {
  "kernelspec": {
   "display_name": "Python 3",
   "language": "python",
   "name": "python3"
  },
  "language_info": {
   "codemirror_mode": {
    "name": "ipython",
    "version": 3
   },
   "file_extension": ".py",
   "mimetype": "text/x-python",
   "name": "python",
   "nbconvert_exporter": "python",
   "pygments_lexer": "ipython3",
   "version": "3.11.3"
  },
  "orig_nbformat": 4
 },
 "nbformat": 4,
 "nbformat_minor": 2
}
